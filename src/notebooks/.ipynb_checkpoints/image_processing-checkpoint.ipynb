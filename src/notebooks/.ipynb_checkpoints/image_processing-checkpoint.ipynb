{
 "cells": [
  {
   "cell_type": "markdown",
   "id": "0ac19967-8c7c-4250-9ad2-ae24b536e6b3",
   "metadata": {},
   "source": [
    "# Image processing and Segmentation notebook\n",
    "\n",
    "July 2023  \n",
    "Wildfire Containment Research"
   ]
  },
  {
   "cell_type": "code",
   "execution_count": 1,
   "id": "6f31984c-9182-4971-932d-34638d863095",
   "metadata": {},
   "outputs": [],
   "source": [
    "from PIL import Image"
   ]
  },
  {
   "cell_type": "code",
   "execution_count": 4,
   "id": "fac44fda-6e6d-4b60-9871-2f18a5b48837",
   "metadata": {},
   "outputs": [],
   "source": [
    "filename = \"SF_map_small.jpeg\"\n",
    "\n",
    "with Image.open(filename) as img:\n",
    "    img.load()\n",
    "\n",
    "img.show()"
   ]
  },
  {
   "cell_type": "code",
   "execution_count": 5,
   "id": "fc682989-9a66-42fd-8c35-0dffecc2b80e",
   "metadata": {},
   "outputs": [],
   "source": [
    "img_cat_gray = img.convert(\"L\")\n",
    "img_cat_gray.show()\n"
   ]
  },
  {
   "cell_type": "code",
   "execution_count": 10,
   "id": "442287bd-9700-425e-bdc0-2134f7f3c2d6",
   "metadata": {},
   "outputs": [],
   "source": [
    "threshold = 150\n",
    "img_cat_threshold = img_cat_gray.point(\n",
    "    lambda x: 255 if x > threshold else 0\n",
    ")\n",
    "img_cat_threshold.show()"
   ]
  },
  {
   "cell_type": "code",
   "execution_count": 11,
   "id": "973df679-a1e5-4447-82f1-670fb0b207a7",
   "metadata": {},
   "outputs": [],
   "source": [
    "red, green, blue = img_cat.split()\n",
    "red.show()\n",
    "green.show()\n",
    "blue.show()"
   ]
  },
  {
   "cell_type": "code",
   "execution_count": 14,
   "id": "aac8966d-6bb9-43d2-973e-27c159619639",
   "metadata": {},
   "outputs": [],
   "source": [
    "threshold = 100\n",
    "img_cat_threshold = red.point(lambda x: 255 if x > threshold else 0)\n",
    "img_cat_threshold = img_cat_threshold.convert(\"1\")\n",
    "img_cat_threshold.show()"
   ]
  },
  {
   "cell_type": "code",
   "execution_count": null,
   "id": "6669cffd-d3b5-4167-8491-4efe8b038aee",
   "metadata": {},
   "outputs": [],
   "source": []
  }
 ],
 "metadata": {
  "kernelspec": {
   "display_name": "Python 3 (ipykernel)",
   "language": "python",
   "name": "python3"
  },
  "language_info": {
   "codemirror_mode": {
    "name": "ipython",
    "version": 3
   },
   "file_extension": ".py",
   "mimetype": "text/x-python",
   "name": "python",
   "nbconvert_exporter": "python",
   "pygments_lexer": "ipython3",
   "version": "3.9.7"
  }
 },
 "nbformat": 4,
 "nbformat_minor": 5
}
